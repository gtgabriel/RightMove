{
 "cells": [
  {
   "cell_type": "code",
   "execution_count": 79,
   "metadata": {},
   "outputs": [
    {
     "name": "stdout",
     "output_type": "stream",
     "text": [
      "The autoreload extension is already loaded. To reload it, use:\n",
      "  %reload_ext autoreload\n"
     ]
    }
   ],
   "source": [
    "import rm\n",
    "import pandas as pd\n",
    "import numpy as np\n",
    "import matplotlib.pyplot as plt\n",
    "import datetime\n",
    "%load_ext autoreload\n",
    "%autoreload 2"
   ]
  },
  {
   "cell_type": "code",
   "execution_count": 104,
   "metadata": {},
   "outputs": [],
   "source": [
    "my_search = rm.rm(None)"
   ]
  },
  {
   "cell_type": "code",
   "execution_count": 105,
   "metadata": {},
   "outputs": [],
   "source": [
    "locations = ['st albans station',\n",
    "             'richmond station' ,\n",
    "             'west dulwich station' , \n",
    "             'stevenage station' , \n",
    "             'welwyn north station' , \n",
    "             'welwyn garden city station' , \n",
    "             'sevenoaks station' , \n",
    "             'dunton green station' \n",
    "             ]"
   ]
  },
  {
   "cell_type": "code",
   "execution_count": 111,
   "metadata": {},
   "outputs": [],
   "source": [
    "search_dict = {'locationIdentifier': 'sevenoaks station',\n",
    "               'minBedrooms' : 2,\n",
    "               'maxBedrooms' : 3,\n",
    "               'propertyTypes': 'semidetached,terraced,detached',\n",
    "               'minPrice': 300000,\n",
    "               'maxPrice': 600000,\n",
    "               'radius': 1.0,\n",
    "               'apiApplication': 'IPAD',\n",
    "                }"
   ]
  },
  {
   "cell_type": "code",
   "execution_count": 113,
   "metadata": {},
   "outputs": [],
   "source": [
    "my_search.clear_df()\n",
    "my_search.set_search_details(search_dict)"
   ]
  },
  {
   "cell_type": "code",
   "execution_count": 114,
   "metadata": {},
   "outputs": [
    {
     "name": "stdout",
     "output_type": "stream",
     "text": [
      "total available results:  43\n",
      "results per page : 25\n",
      "Needed scrapes:  2\n",
      "-------------------\n",
      "Scraping Round :  1\n",
      "-------------------\n",
      "Scraped:  SUCCESS\n",
      "total results:  43\n",
      "-------------------\n",
      "Scraping Round :  2\n",
      "-------------------\n",
      "Scraped:  SUCCESS\n",
      "total results:  43\n",
      "Added  43  houses\n"
     ]
    }
   ],
   "source": [
    "my_search.run_search()"
   ]
  },
  {
   "cell_type": "code",
   "execution_count": 116,
   "metadata": {},
   "outputs": [
    {
     "data": {
      "text/html": [
       "<div>\n",
       "<style scoped>\n",
       "    .dataframe tbody tr th:only-of-type {\n",
       "        vertical-align: middle;\n",
       "    }\n",
       "\n",
       "    .dataframe tbody tr th {\n",
       "        vertical-align: top;\n",
       "    }\n",
       "\n",
       "    .dataframe thead th {\n",
       "        text-align: right;\n",
       "    }\n",
       "</style>\n",
       "<table border=\"1\" class=\"dataframe\">\n",
       "  <thead>\n",
       "    <tr style=\"text-align: right;\">\n",
       "      <th></th>\n",
       "      <th>address</th>\n",
       "      <th>bedrooms</th>\n",
       "      <th>distance</th>\n",
       "      <th>photoCount</th>\n",
       "      <th>propertyType</th>\n",
       "      <th>price</th>\n",
       "      <th>updateDateStr</th>\n",
       "      <th>updateDate</th>\n",
       "      <th>latitude</th>\n",
       "      <th>longitude</th>\n",
       "      <th>floorplanCount</th>\n",
       "      <th>sortDate</th>\n",
       "      <th>sortDateStr</th>\n",
       "      <th>identifier</th>\n",
       "      <th>premiumDisplay</th>\n",
       "      <th>autoEmailReasonType</th>\n",
       "      <th>priceQualifier</th>\n",
       "      <th>town</th>\n",
       "    </tr>\n",
       "  </thead>\n",
       "  <tbody>\n",
       "    <tr>\n",
       "      <td>0</td>\n",
       "      <td>Claret House, Sevenoaks, TN13</td>\n",
       "      <td>2</td>\n",
       "      <td>0.3141</td>\n",
       "      <td>10</td>\n",
       "      <td>maisonette</td>\n",
       "      <td>325000.0</td>\n",
       "      <td>2020-01-14</td>\n",
       "      <td>2020-01-14 11:43:35</td>\n",
       "      <td>51.274426</td>\n",
       "      <td>0.187643</td>\n",
       "      <td>1</td>\n",
       "      <td>2019-11-25 09:38:48</td>\n",
       "      <td>2019-11-25</td>\n",
       "      <td>75350950</td>\n",
       "      <td>True</td>\n",
       "      <td>price_reduced</td>\n",
       "      <td></td>\n",
       "      <td>Sevenoaks</td>\n",
       "    </tr>\n",
       "    <tr>\n",
       "      <td>1</td>\n",
       "      <td>10b Holmesdale Road, SEVENOAKS, Kent</td>\n",
       "      <td>2</td>\n",
       "      <td>0.7944</td>\n",
       "      <td>8</td>\n",
       "      <td>ground floor flat</td>\n",
       "      <td>325000.0</td>\n",
       "      <td>2019-12-28</td>\n",
       "      <td>2019-12-28 14:26:34</td>\n",
       "      <td>51.279766</td>\n",
       "      <td>0.199514</td>\n",
       "      <td>1</td>\n",
       "      <td>2019-12-02 11:58:26</td>\n",
       "      <td>2019-12-02</td>\n",
       "      <td>66758472</td>\n",
       "      <td>False</td>\n",
       "      <td>new</td>\n",
       "      <td>Guide Price</td>\n",
       "      <td>SEVENOAKS</td>\n",
       "    </tr>\n",
       "    <tr>\n",
       "      <td>2</td>\n",
       "      <td>Ferndale, St. Johns Hill, Sevenoaks, Kent</td>\n",
       "      <td>2</td>\n",
       "      <td>0.7730</td>\n",
       "      <td>11</td>\n",
       "      <td>penthouse</td>\n",
       "      <td>325000.0</td>\n",
       "      <td>2020-01-13</td>\n",
       "      <td>2020-01-13 17:37:11</td>\n",
       "      <td>51.284378</td>\n",
       "      <td>0.195170</td>\n",
       "      <td>1</td>\n",
       "      <td>2019-12-26 11:07:09</td>\n",
       "      <td>2019-12-26</td>\n",
       "      <td>76401070</td>\n",
       "      <td>False</td>\n",
       "      <td>new</td>\n",
       "      <td></td>\n",
       "      <td>St. Johns Hill</td>\n",
       "    </tr>\n",
       "    <tr>\n",
       "      <td>3</td>\n",
       "      <td>St. Johns Hill, Sevenoaks</td>\n",
       "      <td>2</td>\n",
       "      <td>0.8077</td>\n",
       "      <td>14</td>\n",
       "      <td>flat</td>\n",
       "      <td>350000.0</td>\n",
       "      <td>2019-12-06</td>\n",
       "      <td>2019-12-06 14:11:41</td>\n",
       "      <td>51.284924</td>\n",
       "      <td>0.195466</td>\n",
       "      <td>1</td>\n",
       "      <td>2019-12-06 14:11:41</td>\n",
       "      <td>2019-12-06</td>\n",
       "      <td>87261002</td>\n",
       "      <td>False</td>\n",
       "      <td>new</td>\n",
       "      <td></td>\n",
       "      <td>Sevenoaks</td>\n",
       "    </tr>\n",
       "    <tr>\n",
       "      <td>4</td>\n",
       "      <td>Sandy Lane, Sevenoaks</td>\n",
       "      <td>2</td>\n",
       "      <td>0.7692</td>\n",
       "      <td>14</td>\n",
       "      <td>terraced house</td>\n",
       "      <td>375000.0</td>\n",
       "      <td>2019-11-30</td>\n",
       "      <td>2019-11-30 09:48:05</td>\n",
       "      <td>51.281963</td>\n",
       "      <td>0.197625</td>\n",
       "      <td>1</td>\n",
       "      <td>2019-11-30 09:45:22</td>\n",
       "      <td>2019-11-30</td>\n",
       "      <td>75913915</td>\n",
       "      <td>False</td>\n",
       "      <td>new</td>\n",
       "      <td>Guide Price</td>\n",
       "      <td>Sevenoaks</td>\n",
       "    </tr>\n",
       "    <tr>\n",
       "      <td>5</td>\n",
       "      <td>London Road, Sevenoaks, TN13</td>\n",
       "      <td>3</td>\n",
       "      <td>0.5301</td>\n",
       "      <td>11</td>\n",
       "      <td>apartment</td>\n",
       "      <td>375000.0</td>\n",
       "      <td>2020-01-02</td>\n",
       "      <td>2020-01-02 12:18:33</td>\n",
       "      <td>51.271732</td>\n",
       "      <td>0.190542</td>\n",
       "      <td>1</td>\n",
       "      <td>2018-11-12 17:43:20</td>\n",
       "      <td>2018-11-12</td>\n",
       "      <td>51314454</td>\n",
       "      <td>False</td>\n",
       "      <td>price_reduced</td>\n",
       "      <td>Guide Price</td>\n",
       "      <td>Sevenoaks</td>\n",
       "    </tr>\n",
       "    <tr>\n",
       "      <td>6</td>\n",
       "      <td>Holyoake Terrace, Sevenoaks, TN13</td>\n",
       "      <td>3</td>\n",
       "      <td>0.1030</td>\n",
       "      <td>8</td>\n",
       "      <td>terraced house</td>\n",
       "      <td>375000.0</td>\n",
       "      <td>2020-01-18</td>\n",
       "      <td>2020-01-18 03:58:31</td>\n",
       "      <td>51.275550</td>\n",
       "      <td>0.181592</td>\n",
       "      <td>1</td>\n",
       "      <td>2019-11-27 11:36:47</td>\n",
       "      <td>2019-11-27</td>\n",
       "      <td>86488658</td>\n",
       "      <td>True</td>\n",
       "      <td>price_reduced</td>\n",
       "      <td></td>\n",
       "      <td>Sevenoaks</td>\n",
       "    </tr>\n",
       "    <tr>\n",
       "      <td>7</td>\n",
       "      <td>139 London Road, Sevenoaks</td>\n",
       "      <td>2</td>\n",
       "      <td>0.3159</td>\n",
       "      <td>8</td>\n",
       "      <td>penthouse</td>\n",
       "      <td>399950.0</td>\n",
       "      <td>2020-01-06</td>\n",
       "      <td>2020-01-06 18:04:43</td>\n",
       "      <td>51.274395</td>\n",
       "      <td>0.187659</td>\n",
       "      <td>0</td>\n",
       "      <td>2019-10-14 16:06:08</td>\n",
       "      <td>2019-10-14</td>\n",
       "      <td>70861312</td>\n",
       "      <td>True</td>\n",
       "      <td>price_reduced</td>\n",
       "      <td>Guide Price</td>\n",
       "      <td>Sevenoaks</td>\n",
       "    </tr>\n",
       "    <tr>\n",
       "      <td>8</td>\n",
       "      <td>London Road, Sevenoaks, Kent</td>\n",
       "      <td>2</td>\n",
       "      <td>0.3206</td>\n",
       "      <td>0</td>\n",
       "      <td>penthouse</td>\n",
       "      <td>399950.0</td>\n",
       "      <td>2020-01-06</td>\n",
       "      <td>2020-01-06 12:37:27</td>\n",
       "      <td>51.274323</td>\n",
       "      <td>0.187711</td>\n",
       "      <td>0</td>\n",
       "      <td>2020-01-06 12:37:27</td>\n",
       "      <td>2020-01-06</td>\n",
       "      <td>76586791</td>\n",
       "      <td>False</td>\n",
       "      <td>new</td>\n",
       "      <td></td>\n",
       "      <td>Sevenoaks</td>\n",
       "    </tr>\n",
       "    <tr>\n",
       "      <td>9</td>\n",
       "      <td>London Road, Sevenoaks, Kent</td>\n",
       "      <td>2</td>\n",
       "      <td>0.1763</td>\n",
       "      <td>8</td>\n",
       "      <td>apartment</td>\n",
       "      <td>409950.0</td>\n",
       "      <td>2019-09-14</td>\n",
       "      <td>2019-09-14 14:08:08</td>\n",
       "      <td>51.275997</td>\n",
       "      <td>0.185430</td>\n",
       "      <td>1</td>\n",
       "      <td>2019-08-06 10:49:52</td>\n",
       "      <td>2019-08-06</td>\n",
       "      <td>64208409</td>\n",
       "      <td>False</td>\n",
       "      <td>new</td>\n",
       "      <td>Guide Price</td>\n",
       "      <td>Sevenoaks</td>\n",
       "    </tr>\n",
       "  </tbody>\n",
       "</table>\n",
       "</div>"
      ],
      "text/plain": [
       "                                     address  bedrooms  distance  photoCount  \\\n",
       "0             Claret House, Sevenoaks, TN13          2    0.3141          10   \n",
       "1       10b Holmesdale Road, SEVENOAKS, Kent         2    0.7944           8   \n",
       "2  Ferndale, St. Johns Hill, Sevenoaks, Kent         2    0.7730          11   \n",
       "3                  St. Johns Hill, Sevenoaks         2    0.8077          14   \n",
       "4                      Sandy Lane, Sevenoaks         2    0.7692          14   \n",
       "5               London Road, Sevenoaks, TN13         3    0.5301          11   \n",
       "6         Holyoake Terrace, Sevenoaks, TN13          3    0.1030           8   \n",
       "7                 139 London Road, Sevenoaks         2    0.3159           8   \n",
       "8               London Road, Sevenoaks, Kent         2    0.3206           0   \n",
       "9               London Road, Sevenoaks, Kent         2    0.1763           8   \n",
       "\n",
       "        propertyType     price updateDateStr          updateDate   latitude  \\\n",
       "0         maisonette  325000.0    2020-01-14 2020-01-14 11:43:35  51.274426   \n",
       "1  ground floor flat  325000.0    2019-12-28 2019-12-28 14:26:34  51.279766   \n",
       "2          penthouse  325000.0    2020-01-13 2020-01-13 17:37:11  51.284378   \n",
       "3               flat  350000.0    2019-12-06 2019-12-06 14:11:41  51.284924   \n",
       "4     terraced house  375000.0    2019-11-30 2019-11-30 09:48:05  51.281963   \n",
       "5          apartment  375000.0    2020-01-02 2020-01-02 12:18:33  51.271732   \n",
       "6     terraced house  375000.0    2020-01-18 2020-01-18 03:58:31  51.275550   \n",
       "7          penthouse  399950.0    2020-01-06 2020-01-06 18:04:43  51.274395   \n",
       "8          penthouse  399950.0    2020-01-06 2020-01-06 12:37:27  51.274323   \n",
       "9          apartment  409950.0    2019-09-14 2019-09-14 14:08:08  51.275997   \n",
       "\n",
       "   longitude  floorplanCount            sortDate sortDateStr  identifier  \\\n",
       "0   0.187643               1 2019-11-25 09:38:48  2019-11-25    75350950   \n",
       "1   0.199514               1 2019-12-02 11:58:26  2019-12-02    66758472   \n",
       "2   0.195170               1 2019-12-26 11:07:09  2019-12-26    76401070   \n",
       "3   0.195466               1 2019-12-06 14:11:41  2019-12-06    87261002   \n",
       "4   0.197625               1 2019-11-30 09:45:22  2019-11-30    75913915   \n",
       "5   0.190542               1 2018-11-12 17:43:20  2018-11-12    51314454   \n",
       "6   0.181592               1 2019-11-27 11:36:47  2019-11-27    86488658   \n",
       "7   0.187659               0 2019-10-14 16:06:08  2019-10-14    70861312   \n",
       "8   0.187711               0 2020-01-06 12:37:27  2020-01-06    76586791   \n",
       "9   0.185430               1 2019-08-06 10:49:52  2019-08-06    64208409   \n",
       "\n",
       "   premiumDisplay autoEmailReasonType priceQualifier             town  \n",
       "0            True       price_reduced                       Sevenoaks  \n",
       "1           False                 new    Guide Price        SEVENOAKS  \n",
       "2           False                 new                  St. Johns Hill  \n",
       "3           False                 new                       Sevenoaks  \n",
       "4           False                 new    Guide Price        Sevenoaks  \n",
       "5           False       price_reduced    Guide Price        Sevenoaks  \n",
       "6            True       price_reduced                       Sevenoaks  \n",
       "7            True       price_reduced    Guide Price        Sevenoaks  \n",
       "8           False                 new                       Sevenoaks  \n",
       "9           False                 new    Guide Price        Sevenoaks  "
      ]
     },
     "execution_count": 116,
     "metadata": {},
     "output_type": "execute_result"
    }
   ],
   "source": [
    "my_search.df.head(10)"
   ]
  },
  {
   "cell_type": "code",
   "execution_count": 120,
   "metadata": {},
   "outputs": [
    {
     "data": {
      "image/png": "[encoded data removed]",
      "text/plain": [
       "<Figure size 432x288 with 1 Axes>"
      ]
     },
     "metadata": {
      "needs_background": "light"
     },
     "output_type": "display_data"
    }
   ],
   "source": [
    "my_search.price_hist()"
   ]
  },
  {
   "cell_type": "code",
   "execution_count": 119,
   "metadata": {},
   "outputs": [
    {
     "data": {
      "text/plain": [
       "<matplotlib.collections.PathCollection at 0x123a926d8>"
      ]
     },
     "execution_count": 119,
     "metadata": {},
     "output_type": "execute_result"
    },
    {
     "data": {
      "image/png": "[encoded data removed]",
      "text/plain": [
       "<Figure size 432x288 with 1 Axes>"
      ]
     },
     "metadata": {
      "needs_background": "light"
     },
     "output_type": "display_data"
    }
   ],
   "source": [
    "plt.scatter(my_search.df.distance, my_search.df.price, s = 5)"
   ]
  },
  {
   "cell_type": "code",
   "execution_count": 75,
   "metadata": {},
   "outputs": [],
   "source": [
    "df = my_search.df"
   ]
  },
  {
   "cell_type": "code",
   "execution_count": 76,
   "metadata": {},
   "outputs": [
    {
     "data": {
      "text/plain": [
       "Index(['address', 'bedrooms', 'distance', 'photoCount', 'propertyType',\n",
       "       'price', 'updateDateStr', 'updateDate', 'latitude', 'longitude',\n",
       "       'floorplanCount', 'sortDate', 'sortDateStr', 'identifier',\n",
       "       'premiumDisplay', 'autoEmailReasonType', 'priceQualifier'],\n",
       "      dtype='object')"
      ]
     },
     "execution_count": 76,
     "metadata": {},
     "output_type": "execute_result"
    }
   ],
   "source": [
    "df.columns"
   ]
  },
  {
   "cell_type": "code",
   "execution_count": 124,
   "metadata": {},
   "outputs": [
    {
     "name": "stderr",
     "output_type": "stream",
     "text": [
      "[autoreload of rm failed: Traceback (most recent call last):\n",
      "  File \"/anaconda3/lib/python3.7/site-packages/IPython/extensions/autoreload.py\", line 244, in check\n",
      "    superreload(m, reload, self.old_objects)\n",
      "  File \"/anaconda3/lib/python3.7/site-packages/IPython/extensions/autoreload.py\", line 378, in superreload\n",
      "    module = reload(module)\n",
      "  File \"/anaconda3/lib/python3.7/imp.py\", line 314, in reload\n",
      "    return importlib.reload(module)\n",
      "  File \"/anaconda3/lib/python3.7/importlib/__init__.py\", line 169, in reload\n",
      "    _bootstrap._exec(spec, module)\n",
      "  File \"<frozen importlib._bootstrap>\", line 630, in _exec\n",
      "  File \"<frozen importlib._bootstrap_external>\", line 724, in exec_module\n",
      "  File \"<frozen importlib._bootstrap_external>\", line 860, in get_code\n",
      "  File \"<frozen importlib._bootstrap_external>\", line 791, in source_to_code\n",
      "  File \"<frozen importlib._bootstrap>\", line 219, in _call_with_frames_removed\n",
      "  File \"/Users/gabriel/Dropbox/CODING/RightMove/rm.py\", line 62\n",
      "    prop['scrapeDate'] = datetime.datetime.now()\n",
      "       ^\n",
      "SyntaxError: invalid syntax\n",
      "]\n"
     ]
    },
    {
     "ename": "TypeError",
     "evalue": "int() argument must be a string, a bytes-like object or a number, not 'Timedelta'",
     "output_type": "error",
     "traceback": [
      "\u001b[0;31m---------------------------------------------------------------------------\u001b[0m",
      "\u001b[0;31mTypeError\u001b[0m                                 Traceback (most recent call last)",
      "\u001b[0;32m<ipython-input-124-9d72d948d464>\u001b[0m in \u001b[0;36m<module>\u001b[0;34m\u001b[0m\n\u001b[1;32m      1\u001b[0m \u001b[0;32mimport\u001b[0m \u001b[0mdatetime\u001b[0m\u001b[0;34m\u001b[0m\u001b[0;34m\u001b[0m\u001b[0m\n\u001b[0;32m----> 2\u001b[0;31m \u001b[0mint\u001b[0m\u001b[0;34m(\u001b[0m\u001b[0mdf\u001b[0m\u001b[0;34m.\u001b[0m\u001b[0msortDate\u001b[0m\u001b[0;34m[\u001b[0m\u001b[0;36m0\u001b[0m\u001b[0;34m]\u001b[0m \u001b[0;34m-\u001b[0m \u001b[0mdatetime\u001b[0m\u001b[0;34m.\u001b[0m\u001b[0mdatetime\u001b[0m\u001b[0;34m.\u001b[0m\u001b[0mnow\u001b[0m\u001b[0;34m(\u001b[0m\u001b[0;34m)\u001b[0m\u001b[0;34m)\u001b[0m\u001b[0;34m\u001b[0m\u001b[0;34m\u001b[0m\u001b[0m\n\u001b[0m",
      "\u001b[0;31mTypeError\u001b[0m: int() argument must be a string, a bytes-like object or a number, not 'Timedelta'"
     ]
    }
   ],
   "source": [
    "import datetime\n",
    "int(df.sortDate[0] - datetime.datetime.now())"
   ]
  },
  {
   "cell_type": "code",
   "execution_count": 81,
   "metadata": {},
   "outputs": [
    {
     "data": {
      "text/plain": [
       "datetime.datetime(2020, 1, 18, 18, 8, 17, 339618)"
      ]
     },
     "execution_count": 81,
     "metadata": {},
     "output_type": "execute_result"
    }
   ],
   "source": [
    "\n",
    "\n"
   ]
  },
  {
   "cell_type": "code",
   "execution_count": null,
   "metadata": {},
   "outputs": [],
   "source": []
  },
  {
   "cell_type": "code",
   "execution_count": null,
   "metadata": {},
   "outputs": [],
   "source": []
  }
 ],
 "metadata": {
  "kernelspec": {
   "display_name": "Python 3",
   "language": "python",
   "name": "python3"
  },
  "language_info": {
   "codemirror_mode": {
    "name": "ipython",
    "version": 3
   },
   "file_extension": ".py",
   "mimetype": "text/x-python",
   "name": "python",
   "nbconvert_exporter": "python",
   "pygments_lexer": "ipython3",
   "version": "3.7.3"
  }
 },
 "nbformat": 4,
 "nbformat_minor": 2
}
