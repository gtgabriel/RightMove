{
 "cells": [
  {
   "cell_type": "code",
   "execution_count": 79,
   "metadata": {},
   "outputs": [],
   "source": [
    "import numpy as np\n",
    "import requests\n",
    "import pandas as pd\n",
    "import json as js\n",
    "import io\n",
    "import pprint as pp\n",
    "import datetime"
   ]
  },
  {
   "cell_type": "code",
   "execution_count": 7,
   "metadata": {},
   "outputs": [],
   "source": [
    "url_base = \"https://api.rightmove.co.uk/api/sale/find?index=0\\\n",
    "&sortType=1\\\n",
    "&numberOfPropertiesRequested={nr_results}\\\n",
    "&locationIdentifier=STATION%5E8573\\\n",
    "&minBedrooms={min_beds}\\\n",
    "&maxBedrooms={max_beds}\\\n",
    "&propertyTypes={property_type}\\\n",
    "&maxPrice={max_price}\\\n",
    "&minPrice={min_price}\\\n",
    "&radius={radius}\\\n",
    "&apiApplication=IPAD\""
   ]
  },
  {
   "cell_type": "code",
   "execution_count": 120,
   "metadata": {},
   "outputs": [],
   "source": [
    "loc_dict = {\n",
    "    'st_albans_station':'STATION%5E8573',\n",
    "}\n",
    "nr_results = '50'\n",
    "min_beds = '2'\n",
    "max_beds = '3'\n",
    "max_price = '649000'\n",
    "min_price = '651000'\n",
    "radius = '3.0'\n",
    "sort_type = '1'\n",
    "property_type = 'detached%2Csemi-detached%2Cterraced'"
   ]
  },
  {
   "cell_type": "code",
   "execution_count": 121,
   "metadata": {},
   "outputs": [],
   "source": [
    "url = url_base.format(location = loc_dict['st_albans_station'], \n",
    "                      min_beds = min_beds, max_beds = max_beds, \n",
    "                      max_price = max_price, min_price = min_price,\n",
    "                     radius = radius, property_type = property_type,\n",
    "                      nr_results = nr_results\n",
    "                     )"
   ]
  },
  {
   "cell_type": "code",
   "execution_count": 122,
   "metadata": {},
   "outputs": [],
   "source": [
    "r = requests.get(url)"
   ]
  },
  {
   "cell_type": "code",
   "execution_count": 123,
   "metadata": {},
   "outputs": [],
   "source": [
    "out_dict = js.loads(r.content)"
   ]
  },
  {
   "cell_type": "code",
   "execution_count": 134,
   "metadata": {},
   "outputs": [],
   "source": [
    "def extract_property(prop_dict):\n",
    "    prop = {}\n",
    "    prop['address'] = prop_dict['address']\n",
    "    prop['bedrooms'] = prop_dict['bedrooms']\n",
    "    prop['distance'] = prop_dict['distance']\n",
    "    prop['photoCount'] = prop_dict['photoCount']\n",
    "    prop['propertyType'] = prop_dict['propertyType']\n",
    "    prop['price'] = prop_dict['price']\n",
    "    prop['updateDateStr'] = datetime.datetime.fromtimestamp(int(prop_dict['updateDate'])/1000).strftime('%Y-%m-%d')\n",
    "    prop['updateDate'] = datetime.datetime.fromtimestamp(int(prop_dict['updateDate'])/1000)\n",
    "    prop['latitude'] = prop_dict['latitude']\n",
    "    prop['longitude'] = prop_dict['longitude']\n",
    "    prop['floorplanCount'] = prop_dict['floorplanCount']\n",
    "    prop['sortDate'] = datetime.datetime.fromtimestamp(int(prop_dict['sortDate'])/1000)\n",
    "    prop['sortDateStr'] = datetime.datetime.fromtimestamp(int(prop_dict['sortDate'])/1000).strftime('%Y-%m-%d')\n",
    "    prop['identifier'] = prop_dict['identifier']\n",
    "    prop['premiumDisplay'] = prop_dict['premiumDisplay']\n",
    "    prop['autoEmailReasonType'] = prop_dict['autoEmailReasonType']\n",
    "    prop['premiumDisplay'] = prop_dict['premiumDisplay']\n",
    "    prop['priceQualifier'] = prop_dict['priceQualifier']\n",
    "    return prop"
   ]
  },
  {
   "cell_type": "code",
   "execution_count": 135,
   "metadata": {},
   "outputs": [
    {
     "name": "stdout",
     "output_type": "stream",
     "text": [
      "{'address': 'West Avenue, St. Albans, Hertfordshire',\n",
      " 'autoEmailReasonType': 'price_reduced',\n",
      " 'bedrooms': 3,\n",
      " 'distance': 1.7151,\n",
      " 'floorplanCount': 1,\n",
      " 'identifier': 63715365,\n",
      " 'latitude': 51.731422,\n",
      " 'longitude': -0.355842,\n",
      " 'photoCount': 14,\n",
      " 'premiumDisplay': True,\n",
      " 'price': 650000.0,\n",
      " 'priceQualifier': 'Guide Price',\n",
      " 'propertyType': 'semi-detached house',\n",
      " 'sortDate': datetime.datetime(2020, 1, 7, 15, 38, 20),\n",
      " 'sortDateStr': '2020-01-07',\n",
      " 'updateDate': datetime.datetime(2020, 1, 15, 16, 17, 14),\n",
      " 'updateDateStr': '2020-01-15'}\n"
     ]
    }
   ],
   "source": [
    "pp.pprint(extract_property(out_dict['properties'][0]))"
   ]
  },
  {
   "cell_type": "code",
   "execution_count": 127,
   "metadata": {},
   "outputs": [
    {
     "name": "stdout",
     "output_type": "stream",
     "text": [
      "{'address': 'Creighton Avenue, St. Albans, Hertfordshire',\n",
      " 'autoEmailReasonType': 'new',\n",
      " 'bedrooms': 3,\n",
      " 'branch': {'address': '10 London Road,\\r\\nSt. Albans,\\r\\nAL1 1NG',\n",
      "            'branchLogo': 'https://media.rightmove.co.uk/dir//company/clogo_rmchoice_4012_0007.jpeg',\n",
      "            'brandName': 'Ashtons',\n",
      "            'brandPlusLettings': False,\n",
      "            'brandPlusResale': True,\n",
      "            'contactTelephoneNumber': '01727 819666',\n",
      "            'development': False,\n",
      "            'hideReducedPropsFlag': False,\n",
      "            'identifier': 11130,\n",
      "            'name': 'St Albans',\n",
      "            'telephoneNumbers': [{'identifier': None,\n",
      "                                  'label': None,\n",
      "                                  'main': None,\n",
      "                                  'number': '01727 819666'}],\n",
      "            'updateDate': 1572885042000},\n",
      " 'commercial': False,\n",
      " 'dateShortlisted': None,\n",
      " 'development': False,\n",
      " 'displayPrices': [{'displayPrice': '£650,000',\n",
      "                    'displayPriceQualifier': 'Guide Price'}],\n",
      " 'distance': 1.0118,\n",
      " 'exactLocationAvailable': False,\n",
      " 'floorplanCount': 1,\n",
      " 'identifier': 67599738,\n",
      " 'latitude': 51.736576,\n",
      " 'letFurnishType': None,\n",
      " 'longitude': -0.337393,\n",
      " 'orderFromServer': 1,\n",
      " 'overseas': False,\n",
      " 'photoCount': 29,\n",
      " 'photoLargeThumbnailUrl': 'https://media.rightmove.co.uk/dir/12k/11130/67599738/11130_STA170026_IMG_01_0000_max_656x437.jpg',\n",
      " 'photoThumbnail2Url': 'https://media.rightmove.co.uk/dir/12k/11130/67599738/11130_STA170026_IMG_02_0000_max_200x138.jpg',\n",
      " 'photoThumbnail3Url': 'https://media.rightmove.co.uk/dir/12k/11130/67599738/11130_STA170026_IMG_03_0000_max_200x138.jpg',\n",
      " 'photoThumbnail4Url': 'https://media.rightmove.co.uk/dir/12k/11130/67599738/11130_STA170026_IMG_04_0000_max_200x138.jpg',\n",
      " 'photoThumbnailUrl': 'https://media.rightmove.co.uk/dir/12k/11130/67599738/11130_STA170026_IMG_01_0000_max_200x138.jpg',\n",
      " 'premiumDisplay': True,\n",
      " 'premiumDisplayStickerName': 'Double Garage',\n",
      " 'premiumDisplayStyle': 33,\n",
      " 'price': 650000.0,\n",
      " 'priceQualifier': 'Guide Price',\n",
      " 'propertyType': 'end of terrace house',\n",
      " 'saved': False,\n",
      " 'shouldShowPrice': True,\n",
      " 'showLettingFeesMessage': False,\n",
      " 'showMap': True,\n",
      " 'showStreetView': True,\n",
      " 'sortDate': 1560248526000,\n",
      " 'status': None,\n",
      " 'summary': 'A most impressive family home which offers extended and '\n",
      "            'well-presented accommodation with the added bonus of an en-suite '\n",
      "            'to the master bedroom, several versatile outbuildings, a double '\n",
      "            'garage, car port and a generous landscaped garden.',\n",
      " 'transactionTypeId': 1,\n",
      " 'updateDate': 1579319956000,\n",
      " 'visible': True}\n"
     ]
    }
   ],
   "source": [
    "pp.pprint(out_dict['properties'][1])"
   ]
  },
  {
   "cell_type": "code",
   "execution_count": null,
   "metadata": {},
   "outputs": [],
   "source": []
  }
 ],
 "metadata": {
  "kernelspec": {
   "display_name": "Python 3",
   "language": "python",
   "name": "python3"
  },
  "language_info": {
   "codemirror_mode": {
    "name": "ipython",
    "version": 3
   },
   "file_extension": ".py",
   "mimetype": "text/x-python",
   "name": "python",
   "nbconvert_exporter": "python",
   "pygments_lexer": "ipython3",
   "version": "3.7.3"
  }
 },
 "nbformat": 4,
 "nbformat_minor": 2
}
